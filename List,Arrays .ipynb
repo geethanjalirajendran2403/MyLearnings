{
 "cells": [
  {
   "cell_type": "code",
   "execution_count": 10,
   "id": "4eca03d1",
   "metadata": {},
   "outputs": [
    {
     "name": "stdout",
     "output_type": "stream",
     "text": [
      "array('i', [1, 2, 7, 3, 4, 5])\n",
      "array('i', [1, 2, 7, 3, 4, 5])\n"
     ]
    }
   ],
   "source": [
    "from array import*\n",
    "arr1 = array('i',[1,2,3,4,5])\n",
    "arr1.insert(2,7)\n",
    "print(arr1)"
   ]
  },
  {
   "cell_type": "code",
   "execution_count": null,
   "id": "678e95a8",
   "metadata": {},
   "outputs": [],
   "source": [
    "#insertion array\n",
    "#time complexity is o(n) because we have move all the array to the end\n",
    "#o(n) for inserting elemnet in middle\n",
    "#o(1) for inserting elememnt in the end\n",
    "#o(n) for inserting elemnet in a filled array because we have to create a newone"
   ]
  },
  {
   "cell_type": "code",
   "execution_count": 12,
   "id": "b8dc9799",
   "metadata": {},
   "outputs": [
    {
     "name": "stdout",
     "output_type": "stream",
     "text": [
      "1\n",
      "2\n",
      "7\n",
      "3\n",
      "4\n",
      "5\n"
     ]
    }
   ],
   "source": [
    "#array traversal\n",
    "def traversalArray(array):\n",
    "    for i in array:                               #for looping o(n) linear\n",
    "        print(i)                                   #o(1) for printing constant\n",
    "traversalArray(arr1)        "
   ]
  },
  {
   "cell_type": "code",
   "execution_count": 1,
   "id": "1293d3b4",
   "metadata": {},
   "outputs": [
    {
     "name": "stdout",
     "output_type": "stream",
     "text": [
      "2\n"
     ]
    }
   ],
   "source": [
    "#accessing array\n",
    "#searching array\n",
    "from array import*\n",
    "arr1 = array('i',[1,2,3,4,5,6])\n",
    "def searcharray(array,value):\n",
    "    for i in array:                     #o(n) for for loop\n",
    "        if i == value:                   #o(1)\n",
    "            return array.index(value)        #o(1)\n",
    "    return \"the element not found\"              #o(1)\n",
    "print(searcharray(arr1, 3))\n",
    "\n",
    "#sapce complexity o(1)"
   ]
  },
  {
   "cell_type": "code",
   "execution_count": 10,
   "id": "016b2150",
   "metadata": {},
   "outputs": [
    {
     "name": "stdout",
     "output_type": "stream",
     "text": [
      "array('i', [1, 3, 4, 5, 6])\n"
     ]
    }
   ],
   "source": [
    "#deletion array\n",
    "from array import*\n",
    "arr1 = array('i',[1,2,3,4,5,6])           \n",
    "arr1.remove(2)\n",
    "print(arr1)\n",
    "#time complexity o(n) for removing element from middle and start\n",
    "#o(1) for removing from last\n",
    "#space complexity o(1)"
   ]
  },
  {
   "cell_type": "code",
   "execution_count": 5,
   "id": "3bba9aa7",
   "metadata": {},
   "outputs": [
    {
     "name": "stdout",
     "output_type": "stream",
     "text": [
      "sum = 9.0\n"
     ]
    }
   ],
   "source": [
    "#array/list questions\n",
    "#how to find a missing number in an integer array of 1 to 100?\n",
    "\n",
    "my_list = [1,2,3,4,5,6,7,8,10]\n",
    "\n",
    "def findMissing(list, n):\n",
    "    sum1 = n*(n+1)/2\n",
    "    sum2 = sum(list)\n",
    "    print(\"sum =\",sum1-sum2)\n",
    "    \n",
    "findMissing(my_list, 10)    "
   ]
  },
  {
   "cell_type": "code",
   "execution_count": 12,
   "id": "a1cf4c48",
   "metadata": {},
   "outputs": [
    {
     "name": "stdout",
     "output_type": "stream",
     "text": [
      "0 6\n",
      "1 5\n",
      "3 5\n"
     ]
    }
   ],
   "source": [
    "#pairs/two sums\n",
    "#[1,2,3,4] and given number 4 output will [1,3] or it van return the indices\n",
    "my_array = [1,2,3,2,3,4,5,6]\n",
    "def twoPair(list1, target):\n",
    "    for i in range(len(list1)):\n",
    "        for j in range(i+1, len(list1)):\n",
    "            if list1[i] == list1[j]:\n",
    "                pass\n",
    "            elif list1[i] + list1[j] == target:\n",
    "                print(i, j)\n",
    "                \n",
    "twoPair(my_array, 6)                "
   ]
  },
  {
   "cell_type": "code",
   "execution_count": 31,
   "id": "a2235f0f",
   "metadata": {},
   "outputs": [
    {
     "name": "stdout",
     "output_type": "stream",
     "text": [
      "numer doewnt exist\n"
     ]
    }
   ],
   "source": [
    "#find a number in an array\n",
    "\n",
    "import numpy as np\n",
    "\n",
    "my_array = np.array([1,2,3,4,5,6,7,8,9])\n",
    "\n",
    "def numArray(list1, target):\n",
    "    for i in list1:\n",
    "        if list1[i] != target:\n",
    "            return \"numer doewnt exist\"\n",
    "        if list1[i] == target:\n",
    "            return i\n",
    "print(numArray(my_array, 10))    "
   ]
  },
  {
   "cell_type": "code",
   "execution_count": 24,
   "id": "143ac656",
   "metadata": {},
   "outputs": [
    {
     "name": "stdout",
     "output_type": "stream",
     "text": [
      "9,8\n",
      "72\n"
     ]
    }
   ],
   "source": [
    "#find maximu product of two numbers in array\n",
    "import numpy as np\n",
    "\n",
    "myarray = np.array([1,2,9,4,8,6,7])\n",
    "def maxMulti(list1):\n",
    "    max1 = 0\n",
    "    for i in range(len(list1)):\n",
    "        for j in range(i+1, len(list1)):\n",
    "            if list1[i] * list1[j] > max1:\n",
    "                max1 = list1[i] * list1[j]\n",
    "                pairs = str(list1[i]) +\",\"+ str(list1[j])\n",
    "    print(pairs)\n",
    "    print(max1)\n",
    "maxMulti(myarray)                "
   ]
  },
  {
   "cell_type": "code",
   "execution_count": 30,
   "id": "510047c6",
   "metadata": {},
   "outputs": [
    {
     "name": "stdout",
     "output_type": "stream",
     "text": [
      "4\n",
      "False\n"
     ]
    }
   ],
   "source": [
    "#implement algorithm to find a array is unique which it does not contains repeated elements\n",
    "\n",
    "myArray = [1,2,3,4,5,6,4,8]\n",
    "def isUnique(list1):\n",
    "    a = []\n",
    "    for i in list1:\n",
    "        if i in a:\n",
    "            print(i)\n",
    "            return False\n",
    "        else:\n",
    "            a.append(i)\n",
    "    return True        \n",
    "print(isUnique(myArray))            \n",
    "        "
   ]
  },
  {
   "cell_type": "code",
   "execution_count": 36,
   "id": "b82aaae2",
   "metadata": {},
   "outputs": [
    {
     "name": "stdout",
     "output_type": "stream",
     "text": [
      "True\n"
     ]
    }
   ],
   "source": [
    "#permutations\n",
    "#compare if the two list contanis same letters or words\n",
    "def permutationOf(list1, list2):\n",
    "    if len(list1) != len(list2):\n",
    "        return False\n",
    "    list1.sort()\n",
    "    list2.sort()\n",
    "    if list1 == list2:\n",
    "        return True\n",
    "list1 = ['a','b','c']\n",
    "list2 = ['b','a','c']\n",
    "print(permutationOf(list1, list2))"
   ]
  },
  {
   "cell_type": "code",
   "execution_count": 37,
   "id": "d0b5a658",
   "metadata": {},
   "outputs": [
    {
     "name": "stdout",
     "output_type": "stream",
     "text": [
      "[[1 2 3]\n",
      " [4 5 6]\n",
      " [7 8 9]]\n"
     ]
    }
   ],
   "source": [
    "import numpy as np\n",
    "myArray = np.array([[1,2,3],[4,5,6],[7,8,9]])\n"
   ]
  },
  {
   "cell_type": "code",
   "execution_count": 1,
   "id": "90b18ba9",
   "metadata": {},
   "outputs": [
    {
     "name": "stdout",
     "output_type": "stream",
     "text": [
      "0 1\n"
     ]
    }
   ],
   "source": [
    "myArray = [2,7,11,15]\n",
    "def TwoSum(num, target):\n",
    "    for i in range(len(num)):\n",
    "        for j in range(i+1, len(num)):\n",
    "            if num[i] + num[j] == target:\n",
    "                print(i,j)\n",
    "TwoSum(myArray, 9) "
   ]
  },
  {
   "cell_type": "code",
   "execution_count": null,
   "id": "9973f7bd",
   "metadata": {},
   "outputs": [],
   "source": []
  }
 ],
 "metadata": {
  "kernelspec": {
   "display_name": "Python 3",
   "language": "python",
   "name": "python3"
  },
  "language_info": {
   "codemirror_mode": {
    "name": "ipython",
    "version": 3
   },
   "file_extension": ".py",
   "mimetype": "text/x-python",
   "name": "python",
   "nbconvert_exporter": "python",
   "pygments_lexer": "ipython3",
   "version": "3.8.8"
  }
 },
 "nbformat": 4,
 "nbformat_minor": 5
}
